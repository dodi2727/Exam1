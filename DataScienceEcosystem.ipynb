{
 "cells": [
  {
   "cell_type": "markdown",
   "id": "97a36b47-279f-4eae-99b6-64e441db8d3b",
   "metadata": {},
   "source": [
    "# Data Science Tools and Ecosystem"
   ]
  },
  {
   "attachments": {},
   "cell_type": "markdown",
   "id": "ed7c4413-d749-4c4d-8b7e-24a21e10052c",
   "metadata": {},
   "source": [
    "In this notebook, Data Science Tools and Ecosystem are summarized."
   ]
  },
  {
   "cell_type": "markdown",
   "id": "56dc0fa8-d61c-4a04-acb1-947b01b088bc",
   "metadata": {},
   "source": [
    "Objectives:\n",
    "* Markdown list\n",
    "* Markdown levels\n",
    "* Multiplication"
   ]
  },
  {
   "cell_type": "markdown",
   "id": "8959281f-70a5-4545-820d-d731e46bf814",
   "metadata": {},
   "source": [
    "Some of the popular languages that Data Scientists use are:\n",
    "1.  Python\n",
    "2.  C++\n",
    "3.  Julia\n",
    "4.  Scala\n",
    "5.  R"
   ]
  },
  {
   "cell_type": "markdown",
   "id": "7e617eeb-4133-4b8b-8624-3779508d915b",
   "metadata": {},
   "source": [
    "Some of the commonly used libraries used by Data Scientists include:\n",
    "1. NumPy\n",
    "2. Pandas\n",
    "3. Scikit"
   ]
  },
  {
   "cell_type": "markdown",
   "id": "18a30c70-9975-48d1-bdd8-42ee6e2a0570",
   "metadata": {},
   "source": [
    "| Data Science Tools |\n",
    "|--------------------|\n",
    "| Jupyter Notebook |\n",
    "| R Studio |\n",
    "| Visual Studio Code |\n"
   ]
  },
  {
   "cell_type": "markdown",
   "id": "d3b3bd80-5b5b-4fbb-bad0-3693ea0dba45",
   "metadata": {},
   "source": [
    "### Below are a few examples of evaluating arithmetic expressions in Python"
   ]
  },
  {
   "cell_type": "code",
   "execution_count": 1,
   "id": "eca75edb-5798-440e-b2ee-2ae03482551f",
   "metadata": {},
   "outputs": [
    {
     "data": {
      "text/plain": [
       "17"
      ]
     },
     "execution_count": 1,
     "metadata": {},
     "output_type": "execute_result"
    }
   ],
   "source": [
    "#this a simple arithmetic expression to mutiply then add integers\n",
    "(3*4)+5"
   ]
  },
  {
   "cell_type": "code",
   "execution_count": 2,
   "id": "61a13c6e-bb2b-4f1e-a836-f50086dcbe5a",
   "metadata": {},
   "outputs": [
    {
     "data": {
      "text/plain": [
       "3.3333333333333335"
      ]
     },
     "execution_count": 2,
     "metadata": {},
     "output_type": "execute_result"
    }
   ],
   "source": [
    "#This will convert 200 minutes to hours by diving by 60\n",
    "200/60"
   ]
  },
  {
   "cell_type": "markdown",
   "id": "27580dd1-550d-426c-8901-d95506ff0875",
   "metadata": {},
   "source": [
    "## Author\n",
    "Dominik Czumpf"
   ]
  }
 ],
 "metadata": {
  "kernelspec": {
   "display_name": "Python 3 (ipykernel)",
   "language": "python",
   "name": "python3"
  },
  "language_info": {
   "codemirror_mode": {
    "name": "ipython",
    "version": 3
   },
   "file_extension": ".py",
   "mimetype": "text/x-python",
   "name": "python",
   "nbconvert_exporter": "python",
   "pygments_lexer": "ipython3",
   "version": "3.11.4"
  }
 },
 "nbformat": 4,
 "nbformat_minor": 5
}
